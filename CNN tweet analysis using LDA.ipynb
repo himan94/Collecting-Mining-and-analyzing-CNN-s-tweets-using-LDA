{
 "cells": [
  {
   "cell_type": "markdown",
   "metadata": {},
   "source": [
    "## Explanatory analysis of CNN's tweets over the year using LDA"
   ]
  },
  {
   "cell_type": "markdown",
   "metadata": {},
   "source": [
    "Gathering/collecting the tweets using selenium and chromedriver"
   ]
  },
  {
   "cell_type": "markdown",
   "metadata": {},
   "source": [
    "Reference - https://github.com/bpb27/twitter_scraping"
   ]
  },
  {
   "cell_type": "code",
   "execution_count": null,
   "metadata": {},
   "outputs": [
    {
     "name": "stdout",
     "output_type": "stream",
     "text": [
      "https://twitter.com/search?f=tweets&vertical=default&q=from%3Acnn%20since%3A2017-01-03%20until%3A2017-01-04include%3Aretweets&src=typd\n",
      "2017-01-03\n"
     ]
    }
   ],
   "source": [
    "from selenium import webdriver\n",
    "from selenium.webdriver.common.keys import Keys\n",
    "from selenium.common.exceptions import NoSuchElementException, StaleElementReferenceException\n",
    "from time import sleep\n",
    "import json\n",
    "import datetime\n",
    "\n",
    "\n",
    "# edit these three variables\n",
    "user = 'CNN'\n",
    "start = datetime.datetime(2017, 1, 3)  # year, month, day\n",
    "end = datetime.datetime(2018, 3, 1)  # year, month, day\n",
    "\n",
    "# only edit these if you're having problems\n",
    "delay = 1  # time to wait on each page load before reading the page\n",
    "driver = webdriver.Chrome()  # options are Chrome() Firefox() Safari()\n",
    "\n",
    "\n",
    "# don't mess with this stuff\n",
    "twitter_ids_filename = 'all_ids.json'\n",
    "days = (end - start).days + 1\n",
    "id_selector = '.time a.tweet-timestamp'\n",
    "tweet_selector = 'li.js-stream-item'\n",
    "user = user.lower()\n",
    "ids = []\n",
    "\n",
    "def format_day(date):\n",
    "    day = '0' + str(date.day) if len(str(date.day)) == 1 else str(date.day)\n",
    "    month = '0' + str(date.month) if len(str(date.month)) == 1 else str(date.month)\n",
    "    year = str(date.year)\n",
    "    return '-'.join([year, month, day])\n",
    "\n",
    "def form_url(since, until):\n",
    "    p1 = 'https://twitter.com/search?f=tweets&vertical=default&q=from%3A'\n",
    "    p2 =  user + '%20since%3A' + since + '%20until%3A' + until + 'include%3Aretweets&src=typd'\n",
    "    return p1 + p2\n",
    "\n",
    "def increment_day(date, i):\n",
    "    return date + datetime.timedelta(days=i)\n",
    "\n",
    "for day in range(days):\n",
    "    d1 = format_day(increment_day(start, 0))\n",
    "    d2 = format_day(increment_day(start, 1))\n",
    "    url = form_url(d1, d2)\n",
    "    print(url)\n",
    "    print(d1)\n",
    "    driver.get(url)\n",
    "    sleep(delay)\n",
    "\n",
    "    try:\n",
    "        found_tweets = driver.find_elements_by_css_selector(tweet_selector)\n",
    "        increment = 10\n",
    "\n",
    "        while len(found_tweets) >= increment:\n",
    "            print('scrolling down to load more tweets')\n",
    "            driver.execute_script('window.scrollTo(0, document.body.scrollHeight);')\n",
    "            sleep(delay)\n",
    "            found_tweets = driver.find_elements_by_css_selector(tweet_selector)\n",
    "            increment += 10\n",
    "\n",
    "        print('{} tweets found, {} total'.format(len(found_tweets), len(ids)))\n",
    "\n",
    "        for tweet in found_tweets:\n",
    "            try:\n",
    "                id = tweet.find_element_by_css_selector(id_selector).get_attribute('href').split('/')[-1]\n",
    "                ids.append(id)\n",
    "            except StaleElementReferenceException as e:\n",
    "                print('lost element reference', tweet)\n",
    "\n",
    "    except NoSuchElementException:\n",
    "        print('no tweets on this day')\n",
    "\n",
    "    start = increment_day(start, 1)\n",
    "\n",
    "\n",
    "try:\n",
    "    with open(twitter_ids_filename) as f:\n",
    "        all_ids = ids + json.load(f)\n",
    "        data_to_write = list(set(all_ids))\n",
    "        print('tweets found on this scrape: ', len(ids))\n",
    "        print('total tweet count: ', len(data_to_write))\n",
    "except FileNotFoundError:\n",
    "    with open(twitter_ids_filename, 'w') as f:\n",
    "        all_ids = ids\n",
    "        data_to_write = list(set(all_ids))\n",
    "        print('tweets found on this scrape: ', len(ids))\n",
    "        print('total tweet count: ', len(data_to_write))\n",
    "\n",
    "with open(twitter_ids_filename, 'w') as outfile:\n",
    "    json.dump(data_to_write, outfile)\n",
    "\n",
    "print('all done here')\n",
    "driver.close()"
   ]
  },
  {
   "cell_type": "markdown",
   "metadata": {},
   "source": [
    "The above block captures all the tweet ids which would be then used to get the tweet information"
   ]
  },
  {
   "cell_type": "code",
   "execution_count": null,
   "metadata": {},
   "outputs": [],
   "source": [
    "import tweepy\n",
    "import csv\n",
    "import time"
   ]
  },
  {
   "cell_type": "markdown",
   "metadata": {},
   "source": [
    "Initialize the credentials for the tweepy API\n",
    "Storing all the tweets data in the list tweets"
   ]
  },
  {
   "cell_type": "code",
   "execution_count": null,
   "metadata": {},
   "outputs": [],
   "source": [
    "CONSUMER_KEY = ''\n",
    "CONSUMER_SECRET = \"\"\n",
    "OAUTH_TOKEN = \"\"\n",
    "OAUTH_TOKEN_SECRET = \"\"\n",
    "\n",
    "auth = tweepy.OAuthHandler(CONSUMER_KEY, CONSUMER_SECRET)\n",
    "auth.set_access_token(OAUTH_TOKEN, OAUTH_TOKEN_SECRET)\n",
    "api = tweepy.API(auth)\n",
    "tweets = []"
   ]
  },
  {
   "cell_type": "markdown",
   "metadata": {},
   "source": [
    "Puts the processor to sleep after every 15 mins as the limit is 15 mins for the tweepy api"
   ]
  },
  {
   "cell_type": "code",
   "execution_count": null,
   "metadata": {},
   "outputs": [],
   "source": [
    "for id_no in ids:         # store the ids in this list\n",
    "    #tweet = api.get_status(int(id_no))\n",
    "    #tweets.append([tweet.id,tweet.created_at, tweet.text.encode(\"utf-8\"),tweet.favorite_count,tweet.retweet_count])\n",
    "    try:\n",
    "        tweet = api.get_status(int(id_no))\n",
    "        tweets.append([tweet.id,tweet.created_at, tweet.text.encode(\"utf-8\"),tweet.favorite_count,tweet.retweet_count])\n",
    "        # Insert into db\n",
    "    except tweepy.TweepError:\n",
    "        time.sleep(60 * 15)\n",
    "        continue\n",
    "    except StopIteration:\n",
    "        break"
   ]
  },
  {
   "cell_type": "markdown",
   "metadata": {},
   "source": [
    "Storing all the tweets information in a csv file"
   ]
  },
  {
   "cell_type": "code",
   "execution_count": null,
   "metadata": {},
   "outputs": [],
   "source": [
    "import pandas as pd\n",
    "with open(\"tweetdata4_CNN.csv\",\"w\",encoding='utf-8') as f:\n",
    "    writer = csv.writer(f, delimiter=\",\")\n",
    "    writer.writerows(tweets)"
   ]
  },
  {
   "cell_type": "code",
   "execution_count": 2,
   "metadata": {},
   "outputs": [],
   "source": [
    "import re\n",
    "import pandas as pd\n",
    "df6 = pd.read_csv('tweetdata4_CNN.csv',header=None,encoding = 'ISO-8859-1')"
   ]
  },
  {
   "cell_type": "markdown",
   "metadata": {},
   "source": [
    "Adding a new column called subject which would be determined by using LDA"
   ]
  },
  {
   "cell_type": "code",
   "execution_count": 3,
   "metadata": {},
   "outputs": [],
   "source": [
    "df6['subject'] = 0"
   ]
  },
  {
   "cell_type": "code",
   "execution_count": 4,
   "metadata": {},
   "outputs": [
    {
     "data": {
      "text/html": [
       "<div>\n",
       "<style scoped>\n",
       "    .dataframe tbody tr th:only-of-type {\n",
       "        vertical-align: middle;\n",
       "    }\n",
       "\n",
       "    .dataframe tbody tr th {\n",
       "        vertical-align: top;\n",
       "    }\n",
       "\n",
       "    .dataframe thead th {\n",
       "        text-align: right;\n",
       "    }\n",
       "</style>\n",
       "<table border=\"1\" class=\"dataframe\">\n",
       "  <thead>\n",
       "    <tr style=\"text-align: right;\">\n",
       "      <th></th>\n",
       "      <th>0</th>\n",
       "      <th>1</th>\n",
       "      <th>2</th>\n",
       "      <th>3</th>\n",
       "      <th>subject</th>\n",
       "    </tr>\n",
       "  </thead>\n",
       "  <tbody>\n",
       "    <tr>\n",
       "      <th>0</th>\n",
       "      <td>2017-02-08 07:00:01</td>\n",
       "      <td>b'In 2012 interviews, Steve Bannon compared pr...</td>\n",
       "      <td>168</td>\n",
       "      <td>140</td>\n",
       "      <td>0</td>\n",
       "    </tr>\n",
       "    <tr>\n",
       "      <th>1</th>\n",
       "      <td>2017-01-10 03:41:30</td>\n",
       "      <td>b'Sanders: We need to focus less on polls and ...</td>\n",
       "      <td>597</td>\n",
       "      <td>199</td>\n",
       "      <td>0</td>\n",
       "    </tr>\n",
       "    <tr>\n",
       "      <th>2</th>\n",
       "      <td>2018-01-12 20:00:19</td>\n",
       "      <td>b\"After Trump cited disapproval with London's ...</td>\n",
       "      <td>1640</td>\n",
       "      <td>497</td>\n",
       "      <td>0</td>\n",
       "    </tr>\n",
       "    <tr>\n",
       "      <th>3</th>\n",
       "      <td>2018-02-02 21:42:18</td>\n",
       "      <td>b'\"I think this is an absolute disgrace. I thi...</td>\n",
       "      <td>2463</td>\n",
       "      <td>973</td>\n",
       "      <td>0</td>\n",
       "    </tr>\n",
       "    <tr>\n",
       "      <th>4</th>\n",
       "      <td>2017-03-21 23:13:57</td>\n",
       "      <td>b'@lance_evans1 may we have permission to feat...</td>\n",
       "      <td>0</td>\n",
       "      <td>0</td>\n",
       "      <td>0</td>\n",
       "    </tr>\n",
       "  </tbody>\n",
       "</table>\n",
       "</div>"
      ],
      "text/plain": [
       "                     0                                                  1  \\\n",
       "0  2017-02-08 07:00:01  b'In 2012 interviews, Steve Bannon compared pr...   \n",
       "1  2017-01-10 03:41:30  b'Sanders: We need to focus less on polls and ...   \n",
       "2  2018-01-12 20:00:19  b\"After Trump cited disapproval with London's ...   \n",
       "3  2018-02-02 21:42:18  b'\"I think this is an absolute disgrace. I thi...   \n",
       "4  2017-03-21 23:13:57  b'@lance_evans1 may we have permission to feat...   \n",
       "\n",
       "      2    3  subject  \n",
       "0   168  140        0  \n",
       "1   597  199        0  \n",
       "2  1640  497        0  \n",
       "3  2463  973        0  \n",
       "4     0    0        0  "
      ]
     },
     "execution_count": 4,
     "metadata": {},
     "output_type": "execute_result"
    }
   ],
   "source": [
    "df6.head()"
   ]
  },
  {
   "cell_type": "markdown",
   "metadata": {},
   "source": [
    "Example of a tweet - 'b\\'police officer stands to lose job after he was\n",
    "caught on dashcam footage telling a woman \"we only kill black people\\\\x\n",
    "e2\\\\x80\\\\xa6 https://t.co/i6youjpcsr\\''\n",
    "\n",
    "As we can see there are some gargabe values in every tweet which has to be removed"
   ]
  },
  {
   "cell_type": "code",
   "execution_count": 7,
   "metadata": {},
   "outputs": [],
   "source": [
    "pattern = '(\\\\\\\\xe2\\\\\\\\\\w{3}\\\\\\\\\\w{3}|https://[a-zA-Z0-9./]+)'"
   ]
  },
  {
   "cell_type": "code",
   "execution_count": 8,
   "metadata": {},
   "outputs": [],
   "source": [
    "tweets = []\n",
    "for row_no in range(0,len(df6)):\n",
    "    df6.iloc[row_no,1] = df6.iloc[row_no,1].lower()        # read the tweets in lower case\n",
    "    x = re.sub(pattern,'',df6.iloc[row_no,1])              # substitute the garbage value with null\n",
    "    tweets.append(re.findall(r'\\w+',x[1:]))"
   ]
  },
  {
   "cell_type": "markdown",
   "metadata": {},
   "source": [
    "Preparing the lemmatizer function"
   ]
  },
  {
   "cell_type": "code",
   "execution_count": 9,
   "metadata": {},
   "outputs": [
    {
     "name": "stdout",
     "output_type": "stream",
     "text": [
      "[nltk_data] Downloading package wordnet to\n",
      "[nltk_data]     C:\\Users\\hsoni\\AppData\\Roaming\\nltk_data...\n",
      "[nltk_data]   Package wordnet is already up-to-date!\n"
     ]
    }
   ],
   "source": [
    "import nltk\n",
    "nltk.download('wordnet')\n",
    "from nltk.corpus import wordnet as wn\n",
    "\n",
    "def get_lemma(word):\n",
    "    lemma = wn.morphy(word)\n",
    "    if lemma is None:\n",
    "        return word\n",
    "    else:\n",
    "        return lemma\n",
    "    \n",
    "from nltk.stem.wordnet import WordNetLemmatizer\n",
    "def get_lemma2(word):\n",
    "    return WordNetLemmatizer().lemmatize(word)"
   ]
  },
  {
   "cell_type": "code",
   "execution_count": 10,
   "metadata": {},
   "outputs": [
    {
     "name": "stdout",
     "output_type": "stream",
     "text": [
      "[nltk_data] Downloading package stopwords to\n",
      "[nltk_data]     C:\\Users\\hsoni\\AppData\\Roaming\\nltk_data...\n",
      "[nltk_data]   Package stopwords is already up-to-date!\n"
     ]
    }
   ],
   "source": [
    "nltk.download('stopwords')\n",
    "en_stop = set(nltk.corpus.stopwords.words('english'))"
   ]
  },
  {
   "cell_type": "markdown",
   "metadata": {},
   "source": [
    "Preparing the text for the LDA function which does stopword removal,lemmatization and stemmatization"
   ]
  },
  {
   "cell_type": "code",
   "execution_count": 11,
   "metadata": {},
   "outputs": [],
   "source": [
    "def prepare_text_for_lda(text):\n",
    "    tokens = text\n",
    "    tokens = [token for token in tokens if len(token) > 2]\n",
    "    tokens = [token for token in tokens if token not in en_stop]\n",
    "    tokens = [get_lemma(token) for token in tokens]\n",
    "    return tokens"
   ]
  },
  {
   "cell_type": "code",
   "execution_count": 12,
   "metadata": {},
   "outputs": [],
   "source": [
    "text_data = []\n",
    "for tweet in tweets:\n",
    "    tokens = prepare_text_for_lda(tweet)\n",
    "    text_data.append(tokens)"
   ]
  },
  {
   "cell_type": "code",
   "execution_count": 13,
   "metadata": {},
   "outputs": [
    {
     "data": {
      "text/plain": [
       "22431"
      ]
     },
     "execution_count": 13,
     "metadata": {},
     "output_type": "execute_result"
    }
   ],
   "source": [
    "len(text_data)"
   ]
  },
  {
   "cell_type": "code",
   "execution_count": 14,
   "metadata": {},
   "outputs": [
    {
     "name": "stderr",
     "output_type": "stream",
     "text": [
      "C:\\Users\\hsoni\\Anaconda3\\lib\\site-packages\\gensim\\utils.py:1209: UserWarning: detected Windows; aliasing chunkize to chunkize_serial\n",
      "  warnings.warn(\"detected Windows; aliasing chunkize to chunkize_serial\")\n"
     ]
    }
   ],
   "source": [
    "import gensim"
   ]
  },
  {
   "cell_type": "markdown",
   "metadata": {},
   "source": [
    "Performing the LDA \n",
    "Topics selected = 10 and passes = 20"
   ]
  },
  {
   "cell_type": "code",
   "execution_count": 15,
   "metadata": {},
   "outputs": [],
   "source": [
    "from gensim import corpora\n",
    "dictionary = corpora.Dictionary(text_data)\n",
    "corpus = [dictionary.doc2bow(text) for text in text_data]\n",
    "import pickle\n",
    "pickle.dump(corpus, open('corpus.pkl', 'wb'))\n",
    "dictionary.save('dictionary.gensim')"
   ]
  },
  {
   "cell_type": "code",
   "execution_count": 16,
   "metadata": {},
   "outputs": [
    {
     "name": "stdout",
     "output_type": "stream",
     "text": [
      "(0, '0.026*\"north\" + 0.025*\"korea\" + 0.018*\"hurricane\" + 0.017*\"florida\" + 0.014*\"irma\" + 0.013*\"south\" + 0.010*\"harvey\"')\n",
      "(1, '0.010*\"new\" + 0.009*\"say\" + 0.008*\"analysis\" + 0.006*\"election\" + 0.006*\"death\" + 0.005*\"state\" + 0.005*\"share\"')\n",
      "(2, '0.027*\"trump\" + 0.019*\"say\" + 0.014*\"president\" + 0.014*\"republican\" + 0.012*\"rep\" + 0.010*\"democrat\" + 0.010*\"obamacare\"')\n",
      "(3, '0.107*\"trump\" + 0.070*\"president\" + 0.020*\"donald\" + 0.014*\"ban\" + 0.013*\"travel\" + 0.013*\"say\" + 0.010*\"administration\"')\n",
      "(4, '0.048*\"trump\" + 0.027*\"president\" + 0.021*\"say\" + 0.015*\"former\" + 0.008*\"clinton\" + 0.008*\"russia\" + 0.007*\"analysis\"')\n",
      "(5, '0.016*\"health\" + 0.011*\"care\" + 0.011*\"paul\" + 0.009*\"2018\" + 0.008*\"ryan\" + 0.007*\"california\" + 0.006*\"speech\"')\n",
      "(6, '0.029*\"new\" + 0.012*\"via\" + 0.011*\"000\" + 0.011*\"wall\" + 0.009*\"year\" + 0.009*\"border\" + 0.009*\"long\"')\n",
      "(7, '0.027*\"year\" + 0.016*\"old\" + 0.013*\"die\" + 0.011*\"life\" + 0.010*\"world\" + 0.009*\"people\" + 0.009*\"first\"')\n",
      "(8, '0.019*\"say\" + 0.012*\"first\" + 0.012*\"national\" + 0.011*\"security\" + 0.009*\"attack\" + 0.009*\"time\" + 0.008*\"sen\"')\n",
      "(9, '0.046*\"house\" + 0.044*\"white\" + 0.018*\"secretary\" + 0.014*\"press\" + 0.012*\"jeff\" + 0.011*\"say\" + 0.011*\"sessions\"')\n"
     ]
    }
   ],
   "source": [
    "import gensim\n",
    "NUM_TOPICS = 10\n",
    "ldamodel = gensim.models.ldamodel.LdaModel(corpus, num_topics = NUM_TOPICS, id2word=dictionary, passes=20)\n",
    "ldamodel.save('model5.gensim')\n",
    "topics = ldamodel.print_topics(num_words=7)\n",
    "for topic in topics:\n",
    "    print(topic)"
   ]
  },
  {
   "cell_type": "markdown",
   "metadata": {},
   "source": [
    "Example of the weights assigned to each of the topic"
   ]
  },
  {
   "cell_type": "code",
   "execution_count": 17,
   "metadata": {},
   "outputs": [
    {
     "name": "stdout",
     "output_type": "stream",
     "text": [
      "[(0, 0.014286679), (1, 0.01428697), (2, 0.8714238), (3, 0.014285952), (4, 0.014285869), (5, 0.014286297), (6, 0.014287031), (7, 0.014285715), (8, 0.014285975), (9, 0.014285715)]\n"
     ]
    }
   ],
   "source": [
    "new_doc = prepare_text_for_lda(tweets[4])\n",
    "new_doc_bow = dictionary.doc2bow(new_doc)\n",
    "#print(new_doc_bow)\n",
    "print(ldamodel.get_document_topics(new_doc_bow))"
   ]
  },
  {
   "cell_type": "code",
   "execution_count": 18,
   "metadata": {},
   "outputs": [
    {
     "data": {
      "text/plain": [
       "2"
      ]
     },
     "execution_count": 18,
     "metadata": {},
     "output_type": "execute_result"
    }
   ],
   "source": [
    "max(ldamodel.get_document_topics(new_doc_bow),key=lambda item:item[1])[0]   # gives the max value amongst the tuples"
   ]
  },
  {
   "cell_type": "markdown",
   "metadata": {},
   "source": [
    "Assigning topic number to each tweet"
   ]
  },
  {
   "cell_type": "code",
   "execution_count": 180,
   "metadata": {},
   "outputs": [],
   "source": [
    "for row_no in range(0,len(df6)):\n",
    "    new_doc = prepare_text_for_lda(tweets[row_no])\n",
    "    new_doc_bow = dictionary.doc2bow(new_doc)\n",
    "    df6.iloc[row_no,4] = max(ldamodel.get_document_topics(new_doc_bow),key=lambda item:item[1])[0]"
   ]
  },
  {
   "cell_type": "code",
   "execution_count": 181,
   "metadata": {},
   "outputs": [
    {
     "data": {
      "text/html": [
       "<div>\n",
       "<style scoped>\n",
       "    .dataframe tbody tr th:only-of-type {\n",
       "        vertical-align: middle;\n",
       "    }\n",
       "\n",
       "    .dataframe tbody tr th {\n",
       "        vertical-align: top;\n",
       "    }\n",
       "\n",
       "    .dataframe thead th {\n",
       "        text-align: right;\n",
       "    }\n",
       "</style>\n",
       "<table border=\"1\" class=\"dataframe\">\n",
       "  <thead>\n",
       "    <tr style=\"text-align: right;\">\n",
       "      <th></th>\n",
       "      <th>0</th>\n",
       "      <th>1</th>\n",
       "      <th>2</th>\n",
       "      <th>3</th>\n",
       "      <th>cleaned</th>\n",
       "    </tr>\n",
       "  </thead>\n",
       "  <tbody>\n",
       "    <tr>\n",
       "      <th>0</th>\n",
       "      <td>2017-02-08 07:00:01</td>\n",
       "      <td>b'in 2012 interviews, steve bannon compared pr...</td>\n",
       "      <td>168</td>\n",
       "      <td>140</td>\n",
       "      <td>9</td>\n",
       "    </tr>\n",
       "    <tr>\n",
       "      <th>1</th>\n",
       "      <td>2017-01-10 03:41:30</td>\n",
       "      <td>b'sanders: we need to focus less on polls and ...</td>\n",
       "      <td>597</td>\n",
       "      <td>199</td>\n",
       "      <td>7</td>\n",
       "    </tr>\n",
       "    <tr>\n",
       "      <th>2</th>\n",
       "      <td>2018-01-12 20:00:19</td>\n",
       "      <td>b\"after trump cited disapproval with london's ...</td>\n",
       "      <td>1640</td>\n",
       "      <td>497</td>\n",
       "      <td>2</td>\n",
       "    </tr>\n",
       "    <tr>\n",
       "      <th>3</th>\n",
       "      <td>2018-02-02 21:42:18</td>\n",
       "      <td>b'\"i think this is an absolute disgrace. i thi...</td>\n",
       "      <td>2463</td>\n",
       "      <td>973</td>\n",
       "      <td>7</td>\n",
       "    </tr>\n",
       "    <tr>\n",
       "      <th>4</th>\n",
       "      <td>2017-03-21 23:13:57</td>\n",
       "      <td>b'@lance_evans1 may we have permission to feat...</td>\n",
       "      <td>0</td>\n",
       "      <td>0</td>\n",
       "      <td>9</td>\n",
       "    </tr>\n",
       "  </tbody>\n",
       "</table>\n",
       "</div>"
      ],
      "text/plain": [
       "                     0                                                  1  \\\n",
       "0  2017-02-08 07:00:01  b'in 2012 interviews, steve bannon compared pr...   \n",
       "1  2017-01-10 03:41:30  b'sanders: we need to focus less on polls and ...   \n",
       "2  2018-01-12 20:00:19  b\"after trump cited disapproval with london's ...   \n",
       "3  2018-02-02 21:42:18  b'\"i think this is an absolute disgrace. i thi...   \n",
       "4  2017-03-21 23:13:57  b'@lance_evans1 may we have permission to feat...   \n",
       "\n",
       "      2    3  cleaned  \n",
       "0   168  140        9  \n",
       "1   597  199        7  \n",
       "2  1640  497        2  \n",
       "3  2463  973        7  \n",
       "4     0    0        9  "
      ]
     },
     "execution_count": 181,
     "metadata": {},
     "output_type": "execute_result"
    }
   ],
   "source": [
    "df6.head()"
   ]
  },
  {
   "cell_type": "code",
   "execution_count": 182,
   "metadata": {},
   "outputs": [
    {
     "data": {
      "text/plain": [
       "cleaned\n",
       "0    653.043818\n",
       "1    773.872960\n",
       "2    796.519191\n",
       "3    821.427492\n",
       "4    896.323757\n",
       "5    667.778654\n",
       "6    951.970683\n",
       "7    635.010243\n",
       "8    779.994447\n",
       "9    684.984694\n",
       "Name: 2, dtype: float64"
      ]
     },
     "execution_count": 182,
     "metadata": {},
     "output_type": "execute_result"
    }
   ],
   "source": [
    "df6.groupby(['cleaned'])[2].mean()"
   ]
  },
  {
   "cell_type": "markdown",
   "metadata": {},
   "source": [
    "Finding the time setting"
   ]
  },
  {
   "cell_type": "code",
   "execution_count": 183,
   "metadata": {},
   "outputs": [],
   "source": [
    "df6['time_setting'] = 0"
   ]
  },
  {
   "cell_type": "code",
   "execution_count": 184,
   "metadata": {},
   "outputs": [
    {
     "data": {
      "text/html": [
       "<div>\n",
       "<style scoped>\n",
       "    .dataframe tbody tr th:only-of-type {\n",
       "        vertical-align: middle;\n",
       "    }\n",
       "\n",
       "    .dataframe tbody tr th {\n",
       "        vertical-align: top;\n",
       "    }\n",
       "\n",
       "    .dataframe thead th {\n",
       "        text-align: right;\n",
       "    }\n",
       "</style>\n",
       "<table border=\"1\" class=\"dataframe\">\n",
       "  <thead>\n",
       "    <tr style=\"text-align: right;\">\n",
       "      <th></th>\n",
       "      <th>0</th>\n",
       "      <th>1</th>\n",
       "      <th>2</th>\n",
       "      <th>3</th>\n",
       "      <th>cleaned</th>\n",
       "      <th>time_setting</th>\n",
       "    </tr>\n",
       "  </thead>\n",
       "  <tbody>\n",
       "    <tr>\n",
       "      <th>0</th>\n",
       "      <td>2017-02-08 07:00:01</td>\n",
       "      <td>b'in 2012 interviews, steve bannon compared pr...</td>\n",
       "      <td>168</td>\n",
       "      <td>140</td>\n",
       "      <td>9</td>\n",
       "      <td>0</td>\n",
       "    </tr>\n",
       "    <tr>\n",
       "      <th>1</th>\n",
       "      <td>2017-01-10 03:41:30</td>\n",
       "      <td>b'sanders: we need to focus less on polls and ...</td>\n",
       "      <td>597</td>\n",
       "      <td>199</td>\n",
       "      <td>7</td>\n",
       "      <td>0</td>\n",
       "    </tr>\n",
       "    <tr>\n",
       "      <th>2</th>\n",
       "      <td>2018-01-12 20:00:19</td>\n",
       "      <td>b\"after trump cited disapproval with london's ...</td>\n",
       "      <td>1640</td>\n",
       "      <td>497</td>\n",
       "      <td>2</td>\n",
       "      <td>0</td>\n",
       "    </tr>\n",
       "    <tr>\n",
       "      <th>3</th>\n",
       "      <td>2018-02-02 21:42:18</td>\n",
       "      <td>b'\"i think this is an absolute disgrace. i thi...</td>\n",
       "      <td>2463</td>\n",
       "      <td>973</td>\n",
       "      <td>7</td>\n",
       "      <td>0</td>\n",
       "    </tr>\n",
       "    <tr>\n",
       "      <th>4</th>\n",
       "      <td>2017-03-21 23:13:57</td>\n",
       "      <td>b'@lance_evans1 may we have permission to feat...</td>\n",
       "      <td>0</td>\n",
       "      <td>0</td>\n",
       "      <td>9</td>\n",
       "      <td>0</td>\n",
       "    </tr>\n",
       "  </tbody>\n",
       "</table>\n",
       "</div>"
      ],
      "text/plain": [
       "                     0                                                  1  \\\n",
       "0  2017-02-08 07:00:01  b'in 2012 interviews, steve bannon compared pr...   \n",
       "1  2017-01-10 03:41:30  b'sanders: we need to focus less on polls and ...   \n",
       "2  2018-01-12 20:00:19  b\"after trump cited disapproval with london's ...   \n",
       "3  2018-02-02 21:42:18  b'\"i think this is an absolute disgrace. i thi...   \n",
       "4  2017-03-21 23:13:57  b'@lance_evans1 may we have permission to feat...   \n",
       "\n",
       "      2    3  cleaned  time_setting  \n",
       "0   168  140        9             0  \n",
       "1   597  199        7             0  \n",
       "2  1640  497        2             0  \n",
       "3  2463  973        7             0  \n",
       "4     0    0        9             0  "
      ]
     },
     "execution_count": 184,
     "metadata": {},
     "output_type": "execute_result"
    }
   ],
   "source": [
    "df6.head()"
   ]
  },
  {
   "cell_type": "code",
   "execution_count": 185,
   "metadata": {},
   "outputs": [
    {
     "data": {
      "text/plain": [
       "[0, 1, 2, 3, 'cleaned', 'time_setting']"
      ]
     },
     "execution_count": 185,
     "metadata": {},
     "output_type": "execute_result"
    }
   ],
   "source": [
    "list(df6)"
   ]
  },
  {
   "cell_type": "code",
   "execution_count": 186,
   "metadata": {},
   "outputs": [],
   "source": [
    "for row_no in range(0,len(df6)):\n",
    "    if int(df6.iloc[row_no,0].split()[1][0:2]) in range(8,12):\n",
    "        df6.iloc[row_no,5] = 'morning'\n",
    "    elif int(df6.iloc[row_no,0].split()[1][0:2]) in range(12,16):\n",
    "        df6.iloc[row_no,5] = 'noon'\n",
    "    elif int(df6.iloc[row_no,0].split()[1][0:2]) in range(16,20):\n",
    "        df6.iloc[row_no,5] = 'evening'\n",
    "    elif int(df6.iloc[row_no,0].split()[1][0:2]) in range(20,24):\n",
    "        df6.iloc[row_no,5] = 'night'\n",
    "    else:\n",
    "        df6.iloc[row_no,5] = 'late_night'"
   ]
  },
  {
   "cell_type": "code",
   "execution_count": 187,
   "metadata": {},
   "outputs": [
    {
     "data": {
      "text/plain": [
       "time_setting\n",
       "evening       876.691026\n",
       "late_night    824.358207\n",
       "morning       514.733969\n",
       "night         728.775941\n",
       "noon          913.090755\n",
       "Name: 2, dtype: float64"
      ]
     },
     "execution_count": 187,
     "metadata": {},
     "output_type": "execute_result"
    }
   ],
   "source": [
    "df6.groupby(['time_setting'])[2].mean()"
   ]
  },
  {
   "cell_type": "code",
   "execution_count": 188,
   "metadata": {},
   "outputs": [
    {
     "data": {
      "text/plain": [
       "time_setting\n",
       "evening       418.363783\n",
       "late_night    352.810618\n",
       "morning       237.887405\n",
       "night         335.206525\n",
       "noon          404.830003\n",
       "Name: 3, dtype: float64"
      ]
     },
     "execution_count": 188,
     "metadata": {},
     "output_type": "execute_result"
    }
   ],
   "source": [
    "df6.groupby(['time_setting'])[3].mean()"
   ]
  },
  {
   "cell_type": "code",
   "execution_count": 189,
   "metadata": {},
   "outputs": [
    {
     "data": {
      "text/plain": [
       "night         6958\n",
       "late_night    6178\n",
       "evening       3722\n",
       "noon          2953\n",
       "morning       2620\n",
       "Name: time_setting, dtype: int64"
      ]
     },
     "execution_count": 189,
     "metadata": {},
     "output_type": "execute_result"
    }
   ],
   "source": [
    "df6['time_setting'].value_counts()"
   ]
  },
  {
   "cell_type": "markdown",
   "metadata": {},
   "source": [
    "Finding if the tweet mentions the word trump"
   ]
  },
  {
   "cell_type": "code",
   "execution_count": 190,
   "metadata": {},
   "outputs": [],
   "source": [
    "df6['mentions_trump'] = 0"
   ]
  },
  {
   "cell_type": "code",
   "execution_count": 191,
   "metadata": {},
   "outputs": [],
   "source": [
    "for row_no in range(0,len(df6)):\n",
    "    if 'trump' in tweets[row_no]:\n",
    "        df6.iloc[row_no,6] = 'yes'\n",
    "    else:\n",
    "        df6.iloc[row_no,6] = 'no'"
   ]
  },
  {
   "cell_type": "code",
   "execution_count": 192,
   "metadata": {},
   "outputs": [
    {
     "data": {
      "text/plain": [
       "mentions_trump\n",
       "no     757.095317\n",
       "yes    855.686278\n",
       "Name: 2, dtype: float64"
      ]
     },
     "execution_count": 192,
     "metadata": {},
     "output_type": "execute_result"
    }
   ],
   "source": [
    "df6.groupby(['mentions_trump'])[2].mean()"
   ]
  },
  {
   "cell_type": "code",
   "execution_count": null,
   "metadata": {},
   "outputs": [],
   "source": []
  }
 ],
 "metadata": {
  "kernelspec": {
   "display_name": "Python 3",
   "language": "python",
   "name": "python3"
  },
  "language_info": {
   "codemirror_mode": {
    "name": "ipython",
    "version": 3
   },
   "file_extension": ".py",
   "mimetype": "text/x-python",
   "name": "python",
   "nbconvert_exporter": "python",
   "pygments_lexer": "ipython3",
   "version": "3.6.7"
  }
 },
 "nbformat": 4,
 "nbformat_minor": 2
}
